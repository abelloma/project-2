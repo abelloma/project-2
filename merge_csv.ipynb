{
 "cells": [
  {
   "cell_type": "code",
   "execution_count": 2,
   "metadata": {},
   "outputs": [],
   "source": [
    "import os\n",
    "import pandas as pd\n",
    "import csv\n",
    "import json\n",
    "from sqlalchemy import create_engine"
   ]
  },
  {
   "cell_type": "code",
   "execution_count": 3,
   "metadata": {},
   "outputs": [],
   "source": [
    "state_income_data='data/income_by_state.csv'\n",
    "state_income_pd = pd.read_csv(state_income_data)\n",
    "winery_data='data/wineries_by_state.csv'\n",
    "winery_pd = pd.read_csv(winery_data)\n",
    "population_data = 'data/population_by_state.csv'\n",
    "population_pd = pd.read_csv(population_data)\n",
    "brewery_data = 'data/brewery_by_state.csv'\n",
    "brewery_pd = pd.read_csv(brewery_data)"
   ]
  },
  {
   "cell_type": "code",
   "execution_count": 4,
   "metadata": {},
   "outputs": [
    {
     "name": "stdout",
     "output_type": "stream",
     "text": [
      "                   state  2018_income\n",
      "0          UNITED STATES        63179\n",
      "1                ALABAMA        49936\n",
      "2                 ALASKA        68734\n",
      "3                ARIZONA        62283\n",
      "4               ARKANSAS        49781\n",
      "5             CALIFORNIA        70489\n",
      "6               COLORADO        73034\n",
      "7            CONNECTICUT        72812\n",
      "8               DELAWARE        65012\n",
      "9   DISTRICT OF COLUMBIA        85750\n",
      "10               FLORIDA        54644\n",
      "11               GEORGIA        55821\n",
      "12                HAWAII        80108\n",
      "13                 IDAHO        58728\n",
      "14              ILLINOIS        70145\n",
      "15               INDIANA        59892\n",
      "16                  IOWA        68718\n",
      "17                KANSAS        63938\n",
      "18              KENTUCKY        54555\n",
      "19             LOUISIANA        49973\n",
      "20                 MAINE        58663\n",
      "21              MARYLAND        86223\n",
      "22         MASSACHUSETTS        86345\n",
      "23              MICHIGAN        60449\n",
      "24             MINNESOTA        71817\n",
      "25           MISSISSIPPI        42781\n",
      "26              MISSOURI        61726\n",
      "27               MONTANA        57679\n",
      "28              NEBRASKA        67575\n",
      "29                NEVADA        61864\n",
      "30         NEW HAMPSHIRE        81346\n",
      "31            NEW JERSEY        74176\n",
      "32            NEW MEXICO        48283\n",
      "33              NEW YORK        67274\n",
      "34        NORTH CAROLINA        53369\n",
      "35          NORTH DAKOTA        66505\n",
      "36                  OHIO        61633\n",
      "37              OKLAHOMA        54434\n",
      "38                OREGON        69165\n",
      "39          PENNSYLVANIA        64524\n",
      "40          RHODE ISLAND        62266\n",
      "41        SOUTH CAROLINA        57444\n",
      "42          SOUTH DAKOTA        59463\n",
      "43             TENNESSEE        56060\n",
      "44                 TEXAS        59785\n",
      "45                  UTAH        77067\n",
      "46               VERMONT        70066\n",
      "47              VIRGINIA        77151\n",
      "48            WASHINGTON        79726\n",
      "49         WEST VIRGINIA        50573\n",
      "50             WISCONSIN        62629\n",
      "51               WYOMING        62539\n",
      "                   state abbr  brewery_count\n",
      "0                ALABAMA   AL             53\n",
      "1                 ALASKA   AK             49\n",
      "2                ARIZONA   AZ            129\n",
      "3               ARKANSAS   AR             45\n",
      "4             CALIFORNIA   CA           1019\n",
      "5               COLORADO   CO            467\n",
      "6            CONNECTICUT   CT            114\n",
      "7               DELAWARE   DE             30\n",
      "8   DISTRICT OF COLUMBIA   DC             14\n",
      "9                FLORIDA   FL            377\n",
      "10               GEORGIA   GA            141\n",
      "11                HAWAII   HI             29\n",
      "12                 IDAHO   ID             74\n",
      "13              ILLINOIS   IL            325\n",
      "14               INDIANA   IN            192\n",
      "15                  IOWA   IA            101\n",
      "16                KANSAS   KS             64\n",
      "17              KENTUCKY   KY             74\n",
      "18             LOUISIANA   LA             51\n",
      "19                 MAINE   ME            134\n",
      "20              MARYLAND   MD            134\n",
      "21         MASSACHUSETTS   MA            198\n",
      "22              MICHIGAN   MI            401\n",
      "23             MINNESOTA   MN            214\n",
      "24           MISSISSIPPI   MS             16\n",
      "25              MISSOURI   MO            152\n",
      "26               MONTANA   MT            103\n",
      "27              NEBRASKA   NE             57\n",
      "28                NEVADA   NV             58\n",
      "29         NEW HAMPSHIRE   NH             93\n",
      "30            NEW JERSEY   NJ            153\n",
      "31            NEW MEXICO   NM             99\n",
      "32              NEW YORK   NY            487\n",
      "33        NORTH CAROLINA   NC            367\n",
      "34          NORTH DAKOTA   ND             24\n",
      "35                  OHIO   OH            334\n",
      "36              OKLAHOMA   OK             63\n",
      "37                OREGON   OR            321\n",
      "38          PENNSYLVANIA   PA            434\n",
      "39          RHODE ISLAND   RI             34\n",
      "40        SOUTH CAROLINA   SC             96\n",
      "41          SOUTH DAKOTA   SD             37\n",
      "42             TENNESSEE   TN            122\n",
      "43                 TEXAS   TX            417\n",
      "44                  UTAH   UT             49\n",
      "45               VERMONT   VT             78\n",
      "46              VIRGINIA   VA            309\n",
      "47            WASHINGTON   WA            445\n",
      "48         WEST VIRGINIA   WV             30\n",
      "49             WISCONSIN   WI            232\n",
      "50               WYOMING   WY             42\n"
     ]
    }
   ],
   "source": [
    "print(state_income_pd)\n",
    "print(brewery_pd)"
   ]
  },
  {
   "cell_type": "code",
   "execution_count": 5,
   "metadata": {},
   "outputs": [
    {
     "name": "stdout",
     "output_type": "stream",
     "text": [
      "                   state  2018_income abbr  brewery_count\n",
      "0                ALABAMA        49936   AL             53\n",
      "1                 ALASKA        68734   AK             49\n",
      "2                ARIZONA        62283   AZ            129\n",
      "3               ARKANSAS        49781   AR             45\n",
      "4             CALIFORNIA        70489   CA           1019\n",
      "5               COLORADO        73034   CO            467\n",
      "6            CONNECTICUT        72812   CT            114\n",
      "7               DELAWARE        65012   DE             30\n",
      "8   DISTRICT OF COLUMBIA        85750   DC             14\n",
      "9                FLORIDA        54644   FL            377\n",
      "10               GEORGIA        55821   GA            141\n",
      "11                HAWAII        80108   HI             29\n",
      "12                 IDAHO        58728   ID             74\n",
      "13              ILLINOIS        70145   IL            325\n",
      "14               INDIANA        59892   IN            192\n",
      "15                  IOWA        68718   IA            101\n",
      "16                KANSAS        63938   KS             64\n",
      "17              KENTUCKY        54555   KY             74\n",
      "18             LOUISIANA        49973   LA             51\n",
      "19                 MAINE        58663   ME            134\n",
      "20              MARYLAND        86223   MD            134\n",
      "21         MASSACHUSETTS        86345   MA            198\n",
      "22              MICHIGAN        60449   MI            401\n",
      "23             MINNESOTA        71817   MN            214\n",
      "24           MISSISSIPPI        42781   MS             16\n",
      "25              MISSOURI        61726   MO            152\n",
      "26               MONTANA        57679   MT            103\n",
      "27              NEBRASKA        67575   NE             57\n",
      "28                NEVADA        61864   NV             58\n",
      "29         NEW HAMPSHIRE        81346   NH             93\n",
      "30            NEW JERSEY        74176   NJ            153\n",
      "31            NEW MEXICO        48283   NM             99\n",
      "32              NEW YORK        67274   NY            487\n",
      "33        NORTH CAROLINA        53369   NC            367\n",
      "34          NORTH DAKOTA        66505   ND             24\n",
      "35                  OHIO        61633   OH            334\n",
      "36              OKLAHOMA        54434   OK             63\n",
      "37                OREGON        69165   OR            321\n",
      "38          PENNSYLVANIA        64524   PA            434\n",
      "39          RHODE ISLAND        62266   RI             34\n",
      "40        SOUTH CAROLINA        57444   SC             96\n",
      "41          SOUTH DAKOTA        59463   SD             37\n",
      "42             TENNESSEE        56060   TN            122\n",
      "43                 TEXAS        59785   TX            417\n",
      "44                  UTAH        77067   UT             49\n",
      "45               VERMONT        70066   VT             78\n",
      "46              VIRGINIA        77151   VA            309\n",
      "47            WASHINGTON        79726   WA            445\n",
      "48         WEST VIRGINIA        50573   WV             30\n",
      "49             WISCONSIN        62629   WI            232\n",
      "50               WYOMING        62539   WY             42\n",
      "                   state  2018_income abbr  brewery_count  2018_population\n",
      "0                ALABAMA        49936   AL             53          4887871\n",
      "1                 ALASKA        68734   AK             49           737438\n",
      "2                ARIZONA        62283   AZ            129          7171646\n",
      "3               ARKANSAS        49781   AR             45          3013825\n",
      "4             CALIFORNIA        70489   CA           1019         39557045\n",
      "5               COLORADO        73034   CO            467          5695564\n",
      "6            CONNECTICUT        72812   CT            114          3572665\n",
      "7               DELAWARE        65012   DE             30           967171\n",
      "8   DISTRICT OF COLUMBIA        85750   DC             14           702455\n",
      "9                FLORIDA        54644   FL            377         21299325\n",
      "10               GEORGIA        55821   GA            141         10519475\n",
      "11                HAWAII        80108   HI             29          1420491\n",
      "12                 IDAHO        58728   ID             74          1754208\n",
      "13              ILLINOIS        70145   IL            325         12741080\n",
      "14               INDIANA        59892   IN            192          6691878\n",
      "15                  IOWA        68718   IA            101          3156145\n",
      "16                KANSAS        63938   KS             64          2911505\n",
      "17              KENTUCKY        54555   KY             74          4468402\n",
      "18             LOUISIANA        49973   LA             51          4659978\n",
      "19                 MAINE        58663   ME            134          1338404\n",
      "20              MARYLAND        86223   MD            134          6042718\n",
      "21         MASSACHUSETTS        86345   MA            198          6902149\n",
      "22              MICHIGAN        60449   MI            401          9995915\n",
      "23             MINNESOTA        71817   MN            214          5611179\n",
      "24           MISSISSIPPI        42781   MS             16          2986530\n",
      "25              MISSOURI        61726   MO            152          6126452\n",
      "26               MONTANA        57679   MT            103          1062305\n",
      "27              NEBRASKA        67575   NE             57          1929268\n",
      "28                NEVADA        61864   NV             58          3034392\n",
      "29         NEW HAMPSHIRE        81346   NH             93          1356458\n",
      "30            NEW JERSEY        74176   NJ            153          8908520\n",
      "31            NEW MEXICO        48283   NM             99          2095428\n",
      "32              NEW YORK        67274   NY            487         19542209\n",
      "33        NORTH CAROLINA        53369   NC            367         10383620\n",
      "34          NORTH DAKOTA        66505   ND             24           760077\n",
      "35                  OHIO        61633   OH            334         11689442\n",
      "36              OKLAHOMA        54434   OK             63          3943079\n",
      "37                OREGON        69165   OR            321          4190713\n",
      "38          PENNSYLVANIA        64524   PA            434         12807060\n",
      "39          RHODE ISLAND        62266   RI             34          1057315\n",
      "40        SOUTH CAROLINA        57444   SC             96          5084127\n",
      "41          SOUTH DAKOTA        59463   SD             37           882235\n",
      "42             TENNESSEE        56060   TN            122          6770010\n",
      "43                 TEXAS        59785   TX            417         28701845\n",
      "44                  UTAH        77067   UT             49          3161105\n",
      "45               VERMONT        70066   VT             78           626299\n",
      "46              VIRGINIA        77151   VA            309          8517685\n",
      "47            WASHINGTON        79726   WA            445          7535591\n",
      "48         WEST VIRGINIA        50573   WV             30          1805832\n",
      "49             WISCONSIN        62629   WI            232          5813568\n",
      "50               WYOMING        62539   WY             42           577737\n",
      "             state  2018_income abbr  brewery_count  2018_population  wineries\n",
      "0          ALABAMA        49936   AL             53          4887871         9\n",
      "1           ALASKA        68734   AK             49           737438         8\n",
      "2          ARIZONA        62283   AZ            129          7171646        26\n",
      "3         ARKANSAS        49781   AR             45          3013825        10\n",
      "4       CALIFORNIA        70489   CA           1019         39557045      2025\n",
      "5         COLORADO        73034   CO            467          5695564        72\n",
      "6      CONNECTICUT        72812   CT            114          3572665        28\n",
      "7         DELAWARE        65012   DE             30           967171         2\n",
      "8          FLORIDA        54644   FL            377         21299325        46\n",
      "9          GEORGIA        55821   GA            141         10519475        20\n",
      "10          HAWAII        80108   HI             29          1420491         4\n",
      "11           IDAHO        58728   ID             74          1754208        32\n",
      "12        ILLINOIS        70145   IL            325         12741080        83\n",
      "13         INDIANA        59892   IN            192          6691878        40\n",
      "14            IOWA        68718   IA            101          3156145        62\n",
      "15          KANSAS        63938   KS             64          2911505        16\n",
      "16        KENTUCKY        54555   KY             74          4468402        44\n",
      "17       LOUISIANA        49973   LA             51          4659978         7\n",
      "18           MAINE        58663   ME            134          1338404        14\n",
      "19        MARYLAND        86223   MD            134          6042718        31\n",
      "20   MASSACHUSETTS        86345   MA            198          6902149        31\n",
      "21        MICHIGAN        60449   MI            401          9995915       112\n",
      "22       MINNESOTA        71817   MN            214          5611179        26\n",
      "23     MISSISSIPPI        42781   MS             16          2986530         2\n",
      "24        MISSOURI        61726   MO            152          6126452        86\n",
      "25         MONTANA        57679   MT            103          1062305        10\n",
      "26        NEBRASKA        67575   NE             57          1929268        20\n",
      "27          NEVADA        61864   NV             58          3034392         5\n",
      "28   NEW HAMPSHIRE        81346   NH             93          1356458        10\n",
      "29      NEW JERSEY        74176   NJ            153          8908520        41\n",
      "30      NEW MEXICO        48283   NM             99          2095428        36\n",
      "31        NEW YORK        67274   NY            487         19542209       239\n",
      "32  NORTH CAROLINA        53369   NC            367         10383620        74\n",
      "33    NORTH DAKOTA        66505   ND             24           760077         8\n",
      "34            OHIO        61633   OH            334         11689442       108\n",
      "35        OKLAHOMA        54434   OK             63          3943079        46\n",
      "36          OREGON        69165   OR            321          4190713       295\n",
      "37    PENNSYLVANIA        64524   PA            434         12807060       115\n",
      "38    RHODE ISLAND        62266   RI             34          1057315         7\n",
      "39  SOUTH CAROLINA        57444   SC             96          5084127        11\n",
      "40    SOUTH DAKOTA        59463   SD             37           882235        14\n",
      "41       TENNESSEE        56060   TN            122          6770010        29\n",
      "42           TEXAS        59785   TX            417         28701845       136\n",
      "43            UTAH        77067   UT             49          3161105         7\n",
      "44         VERMONT        70066   VT             78           626299        14\n",
      "45        VIRGINIA        77151   VA            309          8517685       140\n",
      "46      WASHINGTON        79726   WA            445          7535591       451\n",
      "47   WEST VIRGINIA        50573   WV             30          1805832        16\n",
      "48       WISCONSIN        62629   WI            232          5813568        41\n",
      "49         WYOMING        62539   WY             42           577737         3\n"
     ]
    }
   ],
   "source": [
    "merged_pd = pd.merge(state_income_pd, brewery_pd, on='state', how='inner')\n",
    "print(merged_pd)\n",
    "merged1_pd = pd.merge(merged_pd, population_pd, on='state', how='inner')\n",
    "print(merged1_pd)\n",
    "merged2_pd = pd.merge(merged1_pd, winery_pd, on='state', how='inner')\n",
    "print(merged2_pd)"
   ]
  },
  {
   "cell_type": "code",
   "execution_count": 6,
   "metadata": {
    "scrolled": true
   },
   "outputs": [],
   "source": [
    "merged2_pd.to_csv('data/combined_data.csv')"
   ]
  },
  {
   "cell_type": "code",
   "execution_count": 7,
   "metadata": {},
   "outputs": [],
   "source": [
    "jsonfile = open('data/combined_data.json', 'w')"
   ]
  },
  {
   "cell_type": "code",
   "execution_count": 8,
   "metadata": {},
   "outputs": [
    {
     "data": {
      "text/plain": [
       "2574"
      ]
     },
     "execution_count": 8,
     "metadata": {},
     "output_type": "execute_result"
    }
   ],
   "source": [
    "fieldnames = (\"state\",\"2018_income\",\"abbr\",\"brewery_count\", \"2018_population\", \"wineries\" )\n",
    "reader = csv.DictReader( 'data/combined_data.csv', fieldnames)\n",
    "out = json.dumps( [ row for row in reader ] )\n",
    "jsonfile.write(out)"
   ]
  },
  {
   "cell_type": "code",
   "execution_count": 13,
   "metadata": {},
   "outputs": [
    {
     "name": "stdout",
     "output_type": "stream",
     "text": [
      "[{\"state\":\"ALABAMA\",\"2018_income\":49936,\"abbr\":\"AL\",\"brewery_count\":53,\"2018_population\":4887871,\"wineries\":9},{\"state\":\"ALASKA\",\"2018_income\":68734,\"abbr\":\"AK\",\"brewery_count\":49,\"2018_population\":737438,\"wineries\":8},{\"state\":\"ARIZONA\",\"2018_income\":62283,\"abbr\":\"AZ\",\"brewery_count\":129,\"2018_population\":7171646,\"wineries\":26},{\"state\":\"ARKANSAS\",\"2018_income\":49781,\"abbr\":\"AR\",\"brewery_count\":45,\"2018_population\":3013825,\"wineries\":10},{\"state\":\"CALIFORNIA\",\"2018_income\":70489,\"abbr\":\"CA\",\"brewery_count\":1019,\"2018_population\":39557045,\"wineries\":2025},{\"state\":\"COLORADO\",\"2018_income\":73034,\"abbr\":\"CO\",\"brewery_count\":467,\"2018_population\":5695564,\"wineries\":72},{\"state\":\"CONNECTICUT\",\"2018_income\":72812,\"abbr\":\"CT\",\"brewery_count\":114,\"2018_population\":3572665,\"wineries\":28},{\"state\":\"DELAWARE\",\"2018_income\":65012,\"abbr\":\"DE\",\"brewery_count\":30,\"2018_population\":967171,\"wineries\":2},{\"state\":\"FLORIDA\",\"2018_income\":54644,\"abbr\":\"FL\",\"brewery_count\":377,\"2018_population\":21299325,\"wineries\":46},{\"state\":\"GEORGIA\",\"2018_income\":55821,\"abbr\":\"GA\",\"brewery_count\":141,\"2018_population\":10519475,\"wineries\":20},{\"state\":\"HAWAII\",\"2018_income\":80108,\"abbr\":\"HI\",\"brewery_count\":29,\"2018_population\":1420491,\"wineries\":4},{\"state\":\"IDAHO\",\"2018_income\":58728,\"abbr\":\"ID\",\"brewery_count\":74,\"2018_population\":1754208,\"wineries\":32},{\"state\":\"ILLINOIS\",\"2018_income\":70145,\"abbr\":\"IL\",\"brewery_count\":325,\"2018_population\":12741080,\"wineries\":83},{\"state\":\"INDIANA\",\"2018_income\":59892,\"abbr\":\"IN\",\"brewery_count\":192,\"2018_population\":6691878,\"wineries\":40},{\"state\":\"IOWA\",\"2018_income\":68718,\"abbr\":\"IA\",\"brewery_count\":101,\"2018_population\":3156145,\"wineries\":62},{\"state\":\"KANSAS\",\"2018_income\":63938,\"abbr\":\"KS\",\"brewery_count\":64,\"2018_population\":2911505,\"wineries\":16},{\"state\":\"KENTUCKY\",\"2018_income\":54555,\"abbr\":\"KY\",\"brewery_count\":74,\"2018_population\":4468402,\"wineries\":44},{\"state\":\"LOUISIANA\",\"2018_income\":49973,\"abbr\":\"LA\",\"brewery_count\":51,\"2018_population\":4659978,\"wineries\":7},{\"state\":\"MAINE\",\"2018_income\":58663,\"abbr\":\"ME\",\"brewery_count\":134,\"2018_population\":1338404,\"wineries\":14},{\"state\":\"MARYLAND\",\"2018_income\":86223,\"abbr\":\"MD\",\"brewery_count\":134,\"2018_population\":6042718,\"wineries\":31},{\"state\":\"MASSACHUSETTS\",\"2018_income\":86345,\"abbr\":\"MA\",\"brewery_count\":198,\"2018_population\":6902149,\"wineries\":31},{\"state\":\"MICHIGAN\",\"2018_income\":60449,\"abbr\":\"MI\",\"brewery_count\":401,\"2018_population\":9995915,\"wineries\":112},{\"state\":\"MINNESOTA\",\"2018_income\":71817,\"abbr\":\"MN\",\"brewery_count\":214,\"2018_population\":5611179,\"wineries\":26},{\"state\":\"MISSISSIPPI\",\"2018_income\":42781,\"abbr\":\"MS\",\"brewery_count\":16,\"2018_population\":2986530,\"wineries\":2},{\"state\":\"MISSOURI\",\"2018_income\":61726,\"abbr\":\"MO\",\"brewery_count\":152,\"2018_population\":6126452,\"wineries\":86},{\"state\":\"MONTANA\",\"2018_income\":57679,\"abbr\":\"MT\",\"brewery_count\":103,\"2018_population\":1062305,\"wineries\":10},{\"state\":\"NEBRASKA\",\"2018_income\":67575,\"abbr\":\"NE\",\"brewery_count\":57,\"2018_population\":1929268,\"wineries\":20},{\"state\":\"NEVADA\",\"2018_income\":61864,\"abbr\":\"NV\",\"brewery_count\":58,\"2018_population\":3034392,\"wineries\":5},{\"state\":\"NEW HAMPSHIRE\",\"2018_income\":81346,\"abbr\":\"NH\",\"brewery_count\":93,\"2018_population\":1356458,\"wineries\":10},{\"state\":\"NEW JERSEY\",\"2018_income\":74176,\"abbr\":\"NJ\",\"brewery_count\":153,\"2018_population\":8908520,\"wineries\":41},{\"state\":\"NEW MEXICO\",\"2018_income\":48283,\"abbr\":\"NM\",\"brewery_count\":99,\"2018_population\":2095428,\"wineries\":36},{\"state\":\"NEW YORK\",\"2018_income\":67274,\"abbr\":\"NY\",\"brewery_count\":487,\"2018_population\":19542209,\"wineries\":239},{\"state\":\"NORTH CAROLINA\",\"2018_income\":53369,\"abbr\":\"NC\",\"brewery_count\":367,\"2018_population\":10383620,\"wineries\":74},{\"state\":\"NORTH DAKOTA\",\"2018_income\":66505,\"abbr\":\"ND\",\"brewery_count\":24,\"2018_population\":760077,\"wineries\":8},{\"state\":\"OHIO\",\"2018_income\":61633,\"abbr\":\"OH\",\"brewery_count\":334,\"2018_population\":11689442,\"wineries\":108},{\"state\":\"OKLAHOMA\",\"2018_income\":54434,\"abbr\":\"OK\",\"brewery_count\":63,\"2018_population\":3943079,\"wineries\":46},{\"state\":\"OREGON\",\"2018_income\":69165,\"abbr\":\"OR\",\"brewery_count\":321,\"2018_population\":4190713,\"wineries\":295},{\"state\":\"PENNSYLVANIA\",\"2018_income\":64524,\"abbr\":\"PA\",\"brewery_count\":434,\"2018_population\":12807060,\"wineries\":115},{\"state\":\"RHODE ISLAND\",\"2018_income\":62266,\"abbr\":\"RI\",\"brewery_count\":34,\"2018_population\":1057315,\"wineries\":7},{\"state\":\"SOUTH CAROLINA\",\"2018_income\":57444,\"abbr\":\"SC\",\"brewery_count\":96,\"2018_population\":5084127,\"wineries\":11},{\"state\":\"SOUTH DAKOTA\",\"2018_income\":59463,\"abbr\":\"SD\",\"brewery_count\":37,\"2018_population\":882235,\"wineries\":14},{\"state\":\"TENNESSEE\",\"2018_income\":56060,\"abbr\":\"TN\",\"brewery_count\":122,\"2018_population\":6770010,\"wineries\":29},{\"state\":\"TEXAS\",\"2018_income\":59785,\"abbr\":\"TX\",\"brewery_count\":417,\"2018_population\":28701845,\"wineries\":136},{\"state\":\"UTAH\",\"2018_income\":77067,\"abbr\":\"UT\",\"brewery_count\":49,\"2018_population\":3161105,\"wineries\":7},{\"state\":\"VERMONT\",\"2018_income\":70066,\"abbr\":\"VT\",\"brewery_count\":78,\"2018_population\":626299,\"wineries\":14},{\"state\":\"VIRGINIA\",\"2018_income\":77151,\"abbr\":\"VA\",\"brewery_count\":309,\"2018_population\":8517685,\"wineries\":140},{\"state\":\"WASHINGTON\",\"2018_income\":79726,\"abbr\":\"WA\",\"brewery_count\":445,\"2018_population\":7535591,\"wineries\":451},{\"state\":\"WEST VIRGINIA\",\"2018_income\":50573,\"abbr\":\"WV\",\"brewery_count\":30,\"2018_population\":1805832,\"wineries\":16},{\"state\":\"WISCONSIN\",\"2018_income\":62629,\"abbr\":\"WI\",\"brewery_count\":232,\"2018_population\":5813568,\"wineries\":41},{\"state\":\"WYOMING\",\"2018_income\":62539,\"abbr\":\"WY\",\"brewery_count\":42,\"2018_population\":577737,\"wineries\":3}]\n"
     ]
    }
   ],
   "source": [
    "\n",
    "# merged2_pd.to_json(\"data/combined_data.json\")\n",
    "# print(json_file)\n",
    "\n",
    "json_file = merged2_pd.to_json(orient ='records')\n",
    "print(json_file)\n",
    "\n",
    "# csv_file.to_json(\"data/combined_data.json\")"
   ]
  },
  {
   "cell_type": "code",
   "execution_count": 14,
   "metadata": {
    "scrolled": true
   },
   "outputs": [],
   "source": [
    "# Open a file\n",
    "fo = open(\"data/combined.json\", \"w\") # Creates a file object 'fo'\n",
    "fo.write(json_file)\n",
    "\n",
    "# Close opened file (good practice)\n",
    "fo.close()"
   ]
  },
  {
   "cell_type": "code",
   "execution_count": null,
   "metadata": {},
   "outputs": [],
   "source": []
  },
  {
   "cell_type": "code",
   "execution_count": null,
   "metadata": {},
   "outputs": [],
   "source": []
  },
  {
   "cell_type": "code",
   "execution_count": null,
   "metadata": {},
   "outputs": [],
   "source": []
  },
  {
   "cell_type": "code",
   "execution_count": null,
   "metadata": {},
   "outputs": [],
   "source": []
  },
  {
   "cell_type": "code",
   "execution_count": null,
   "metadata": {},
   "outputs": [],
   "source": []
  },
  {
   "cell_type": "code",
   "execution_count": null,
   "metadata": {},
   "outputs": [],
   "source": [
    "winery_pd.to_csv('winery_cleaned.csv')"
   ]
  },
  {
   "cell_type": "code",
   "execution_count": null,
   "metadata": {},
   "outputs": [],
   "source": [
    "\n"
   ]
  },
  {
   "cell_type": "code",
   "execution_count": null,
   "metadata": {},
   "outputs": [],
   "source": []
  },
  {
   "cell_type": "code",
   "execution_count": null,
   "metadata": {},
   "outputs": [],
   "source": []
  },
  {
   "cell_type": "code",
   "execution_count": null,
   "metadata": {},
   "outputs": [],
   "source": []
  },
  {
   "cell_type": "code",
   "execution_count": null,
   "metadata": {},
   "outputs": [],
   "source": []
  },
  {
   "cell_type": "code",
   "execution_count": null,
   "metadata": {},
   "outputs": [],
   "source": []
  },
  {
   "cell_type": "code",
   "execution_count": null,
   "metadata": {},
   "outputs": [],
   "source": []
  }
 ],
 "metadata": {
  "kernelspec": {
   "display_name": "Python 3",
   "language": "python",
   "name": "python3"
  },
  "language_info": {
   "codemirror_mode": {
    "name": "ipython",
    "version": 3
   },
   "file_extension": ".py",
   "mimetype": "text/x-python",
   "name": "python",
   "nbconvert_exporter": "python",
   "pygments_lexer": "ipython3",
   "version": "3.7.5"
  }
 },
 "nbformat": 4,
 "nbformat_minor": 2
}
