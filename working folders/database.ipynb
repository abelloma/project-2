{
 "cells": [
  {
   "cell_type": "code",
   "execution_count": 3,
   "metadata": {},
   "outputs": [
    {
     "name": "stdout",
     "output_type": "stream",
     "text": [
      "Requirement already satisfied: csv-to-sqlite in c:\\users\\abell\\anaconda3\\envs\\pythondata\\lib\\site-packages (2.0.0)\n",
      "Requirement already satisfied: click in c:\\users\\abell\\anaconda3\\envs\\pythondata\\lib\\site-packages (from csv-to-sqlite) (7.0)\n",
      "Note: you may need to restart the kernel to use updated packages.\n"
     ]
    }
   ],
   "source": [
    "pip install csv-to-sqlite"
   ]
  },
  {
   "cell_type": "code",
   "execution_count": 1,
   "metadata": {},
   "outputs": [],
   "source": [
    "import os\n",
    "import pandas as pd\n",
    "import csv\n",
    "import json\n",
    "from sqlalchemy import create_engine\n"
   ]
  },
  {
   "cell_type": "code",
   "execution_count": 2,
   "metadata": {},
   "outputs": [
    {
     "ename": "SyntaxError",
     "evalue": "invalid syntax (<ipython-input-2-17f979fc037a>, line 1)",
     "output_type": "error",
     "traceback": [
      "\u001b[1;36m  File \u001b[1;32m\"<ipython-input-2-17f979fc037a>\"\u001b[1;36m, line \u001b[1;32m1\u001b[0m\n\u001b[1;33m    csv-to-sqlite -f table.csv -o result.sqlite -D\u001b[0m\n\u001b[1;37m                         ^\u001b[0m\n\u001b[1;31mSyntaxError\u001b[0m\u001b[1;31m:\u001b[0m invalid syntax\n"
     ]
    }
   ],
   "source": [
    "csv-to-sqlite -f table.csv -o result.sqlite -D"
   ]
  },
  {
   "cell_type": "code",
   "execution_count": null,
   "metadata": {},
   "outputs": [],
   "source": [
    "csv-to-sqlite -f file1.csv -f file2.csv -o result.sqlite"
   ]
  },
  {
   "cell_type": "code",
   "execution_count": 3,
   "metadata": {},
   "outputs": [
    {
     "ename": "NameError",
     "evalue": "name 'csv' is not defined",
     "output_type": "error",
     "traceback": [
      "\u001b[1;31m---------------------------------------------------------------------------\u001b[0m",
      "\u001b[1;31mNameError\u001b[0m                                 Traceback (most recent call last)",
      "\u001b[1;32m<ipython-input-3-f1070e5f2c80>\u001b[0m in \u001b[0;36m<module>\u001b[1;34m\u001b[0m\n\u001b[1;32m----> 1\u001b[1;33m \u001b[0mcsv\u001b[0m\u001b[1;33m-\u001b[0m\u001b[0mto\u001b[0m\u001b[1;33m-\u001b[0m\u001b[0msqlite\u001b[0m \u001b[1;33m-\u001b[0m\u001b[1;33m-\u001b[0m\u001b[0mhelp\u001b[0m\u001b[1;33m\u001b[0m\u001b[1;33m\u001b[0m\u001b[0m\n\u001b[0m",
      "\u001b[1;31mNameError\u001b[0m: name 'csv' is not defined"
     ]
    }
   ],
   "source": [
    "csv-to-sqlite --help"
   ]
  },
  {
   "cell_type": "code",
   "execution_count": 2,
   "metadata": {},
   "outputs": [],
   "source": [
    "state_income_data='data/income_by_state.csv'\n",
    "state_income_pd = pd.read_csv(state_income_data)\n",
    "winery_data='data/wineries_by_state.csv'\n",
    "winery_pd = pd.read_csv(winery_data)\n",
    "population_data = 'data/population_by_state.csv'\n",
    "population_pd = pd.read_csv(population_data)\n",
    "brewery_data = 'data/brewery_by_state.csv'\n",
    "brewery_pd = pd.read_csv(brewery_data)"
   ]
  },
  {
   "cell_type": "code",
   "execution_count": 3,
   "metadata": {},
   "outputs": [
    {
     "name": "stdout",
     "output_type": "stream",
     "text": [
      "                   state  income\n",
      "0          UNITED STATES   63179\n",
      "1                ALABAMA   49936\n",
      "2                 ALASKA   68734\n",
      "3                ARIZONA   62283\n",
      "4               ARKANSAS   49781\n",
      "5             CALIFORNIA   70489\n",
      "6               COLORADO   73034\n",
      "7            CONNECTICUT   72812\n",
      "8               DELAWARE   65012\n",
      "9   DISTRICT OF COLUMBIA   85750\n",
      "10               FLORIDA   54644\n",
      "11               GEORGIA   55821\n",
      "12                HAWAII   80108\n",
      "13                 IDAHO   58728\n",
      "14              ILLINOIS   70145\n",
      "15               INDIANA   59892\n",
      "16                  IOWA   68718\n",
      "17                KANSAS   63938\n",
      "18              KENTUCKY   54555\n",
      "19             LOUISIANA   49973\n",
      "20                 MAINE   58663\n",
      "21              MARYLAND   86223\n",
      "22         MASSACHUSETTS   86345\n",
      "23              MICHIGAN   60449\n",
      "24             MINNESOTA   71817\n",
      "25           MISSISSIPPI   42781\n",
      "26              MISSOURI   61726\n",
      "27               MONTANA   57679\n",
      "28              NEBRASKA   67575\n",
      "29                NEVADA   61864\n",
      "30         NEW HAMPSHIRE   81346\n",
      "31            NEW JERSEY   74176\n",
      "32            NEW MEXICO   48283\n",
      "33              NEW YORK   67274\n",
      "34        NORTH CAROLINA   53369\n",
      "35          NORTH DAKOTA   66505\n",
      "36                  OHIO   61633\n",
      "37              OKLAHOMA   54434\n",
      "38                OREGON   69165\n",
      "39          PENNSYLVANIA   64524\n",
      "40          RHODE ISLAND   62266\n",
      "41        SOUTH CAROLINA   57444\n",
      "42          SOUTH DAKOTA   59463\n",
      "43             TENNESSEE   56060\n",
      "44                 TEXAS   59785\n",
      "45                  UTAH   77067\n",
      "46               VERMONT   70066\n",
      "47              VIRGINIA   77151\n",
      "48            WASHINGTON   79726\n",
      "49         WEST VIRGINIA   50573\n",
      "50             WISCONSIN   62629\n",
      "51               WYOMING   62539\n",
      "                   state abbr  brewery_count\n",
      "0                ALABAMA   AL             53\n",
      "1                 ALASKA   AK             49\n",
      "2                ARIZONA   AZ            129\n",
      "3               ARKANSAS   AR             45\n",
      "4             CALIFORNIA   CA           1019\n",
      "5               COLORADO   CO            467\n",
      "6            CONNECTICUT   CT            114\n",
      "7               DELAWARE   DE             30\n",
      "8   DISTRICT OF COLUMBIA   DC             14\n",
      "9                FLORIDA   FL            377\n",
      "10               GEORGIA   GA            141\n",
      "11                HAWAII   HI             29\n",
      "12                 IDAHO   ID             74\n",
      "13              ILLINOIS   IL            325\n",
      "14               INDIANA   IN            192\n",
      "15                  IOWA   IA            101\n",
      "16                KANSAS   KS             64\n",
      "17              KENTUCKY   KY             74\n",
      "18             LOUISIANA   LA             51\n",
      "19                 MAINE   ME            134\n",
      "20              MARYLAND   MD            134\n",
      "21         MASSACHUSETTS   MA            198\n",
      "22              MICHIGAN   MI            401\n",
      "23             MINNESOTA   MN            214\n",
      "24           MISSISSIPPI   MS             16\n",
      "25              MISSOURI   MO            152\n",
      "26               MONTANA   MT            103\n",
      "27              NEBRASKA   NE             57\n",
      "28                NEVADA   NV             58\n",
      "29         NEW HAMPSHIRE   NH             93\n",
      "30            NEW JERSEY   NJ            153\n",
      "31            NEW MEXICO   NM             99\n",
      "32              NEW YORK   NY            487\n",
      "33        NORTH CAROLINA   NC            367\n",
      "34          NORTH DAKOTA   ND             24\n",
      "35                  OHIO   OH            334\n",
      "36              OKLAHOMA   OK             63\n",
      "37                OREGON   OR            321\n",
      "38          PENNSYLVANIA   PA            434\n",
      "39          RHODE ISLAND   RI             34\n",
      "40        SOUTH CAROLINA   SC             96\n",
      "41          SOUTH DAKOTA   SD             37\n",
      "42             TENNESSEE   TN            122\n",
      "43                 TEXAS   TX            417\n",
      "44                  UTAH   UT             49\n",
      "45               VERMONT   VT             78\n",
      "46              VIRGINIA   VA            309\n",
      "47            WASHINGTON   WA            445\n",
      "48         WEST VIRGINIA   WV             30\n",
      "49             WISCONSIN   WI            232\n",
      "50               WYOMING   WY             42\n"
     ]
    }
   ],
   "source": [
    "print(state_income_pd)\n",
    "print(brewery_pd)"
   ]
  },
  {
   "cell_type": "code",
   "execution_count": 4,
   "metadata": {},
   "outputs": [
    {
     "name": "stdout",
     "output_type": "stream",
     "text": [
      "                   state  income abbr  brewery_count\n",
      "0                ALABAMA   49936   AL             53\n",
      "1                 ALASKA   68734   AK             49\n",
      "2                ARIZONA   62283   AZ            129\n",
      "3               ARKANSAS   49781   AR             45\n",
      "4             CALIFORNIA   70489   CA           1019\n",
      "5               COLORADO   73034   CO            467\n",
      "6            CONNECTICUT   72812   CT            114\n",
      "7               DELAWARE   65012   DE             30\n",
      "8   DISTRICT OF COLUMBIA   85750   DC             14\n",
      "9                FLORIDA   54644   FL            377\n",
      "10               GEORGIA   55821   GA            141\n",
      "11                HAWAII   80108   HI             29\n",
      "12                 IDAHO   58728   ID             74\n",
      "13              ILLINOIS   70145   IL            325\n",
      "14               INDIANA   59892   IN            192\n",
      "15                  IOWA   68718   IA            101\n",
      "16                KANSAS   63938   KS             64\n",
      "17              KENTUCKY   54555   KY             74\n",
      "18             LOUISIANA   49973   LA             51\n",
      "19                 MAINE   58663   ME            134\n",
      "20              MARYLAND   86223   MD            134\n",
      "21         MASSACHUSETTS   86345   MA            198\n",
      "22              MICHIGAN   60449   MI            401\n",
      "23             MINNESOTA   71817   MN            214\n",
      "24           MISSISSIPPI   42781   MS             16\n",
      "25              MISSOURI   61726   MO            152\n",
      "26               MONTANA   57679   MT            103\n",
      "27              NEBRASKA   67575   NE             57\n",
      "28                NEVADA   61864   NV             58\n",
      "29         NEW HAMPSHIRE   81346   NH             93\n",
      "30            NEW JERSEY   74176   NJ            153\n",
      "31            NEW MEXICO   48283   NM             99\n",
      "32              NEW YORK   67274   NY            487\n",
      "33        NORTH CAROLINA   53369   NC            367\n",
      "34          NORTH DAKOTA   66505   ND             24\n",
      "35                  OHIO   61633   OH            334\n",
      "36              OKLAHOMA   54434   OK             63\n",
      "37                OREGON   69165   OR            321\n",
      "38          PENNSYLVANIA   64524   PA            434\n",
      "39          RHODE ISLAND   62266   RI             34\n",
      "40        SOUTH CAROLINA   57444   SC             96\n",
      "41          SOUTH DAKOTA   59463   SD             37\n",
      "42             TENNESSEE   56060   TN            122\n",
      "43                 TEXAS   59785   TX            417\n",
      "44                  UTAH   77067   UT             49\n",
      "45               VERMONT   70066   VT             78\n",
      "46              VIRGINIA   77151   VA            309\n",
      "47            WASHINGTON   79726   WA            445\n",
      "48         WEST VIRGINIA   50573   WV             30\n",
      "49             WISCONSIN   62629   WI            232\n",
      "50               WYOMING   62539   WY             42\n",
      "                   state  income abbr  brewery_count  population\n",
      "0                ALABAMA   49936   AL             53     4887871\n",
      "1                 ALASKA   68734   AK             49      737438\n",
      "2                ARIZONA   62283   AZ            129     7171646\n",
      "3               ARKANSAS   49781   AR             45     3013825\n",
      "4             CALIFORNIA   70489   CA           1019    39557045\n",
      "5               COLORADO   73034   CO            467     5695564\n",
      "6            CONNECTICUT   72812   CT            114     3572665\n",
      "7               DELAWARE   65012   DE             30      967171\n",
      "8   DISTRICT OF COLUMBIA   85750   DC             14      702455\n",
      "9                FLORIDA   54644   FL            377    21299325\n",
      "10               GEORGIA   55821   GA            141    10519475\n",
      "11                HAWAII   80108   HI             29     1420491\n",
      "12                 IDAHO   58728   ID             74     1754208\n",
      "13              ILLINOIS   70145   IL            325    12741080\n",
      "14               INDIANA   59892   IN            192     6691878\n",
      "15                  IOWA   68718   IA            101     3156145\n",
      "16                KANSAS   63938   KS             64     2911505\n",
      "17              KENTUCKY   54555   KY             74     4468402\n",
      "18             LOUISIANA   49973   LA             51     4659978\n",
      "19                 MAINE   58663   ME            134     1338404\n",
      "20              MARYLAND   86223   MD            134     6042718\n",
      "21         MASSACHUSETTS   86345   MA            198     6902149\n",
      "22              MICHIGAN   60449   MI            401     9995915\n",
      "23             MINNESOTA   71817   MN            214     5611179\n",
      "24           MISSISSIPPI   42781   MS             16     2986530\n",
      "25              MISSOURI   61726   MO            152     6126452\n",
      "26               MONTANA   57679   MT            103     1062305\n",
      "27              NEBRASKA   67575   NE             57     1929268\n",
      "28                NEVADA   61864   NV             58     3034392\n",
      "29         NEW HAMPSHIRE   81346   NH             93     1356458\n",
      "30            NEW JERSEY   74176   NJ            153     8908520\n",
      "31            NEW MEXICO   48283   NM             99     2095428\n",
      "32              NEW YORK   67274   NY            487    19542209\n",
      "33        NORTH CAROLINA   53369   NC            367    10383620\n",
      "34          NORTH DAKOTA   66505   ND             24      760077\n",
      "35                  OHIO   61633   OH            334    11689442\n",
      "36              OKLAHOMA   54434   OK             63     3943079\n",
      "37                OREGON   69165   OR            321     4190713\n",
      "38          PENNSYLVANIA   64524   PA            434    12807060\n",
      "39          RHODE ISLAND   62266   RI             34     1057315\n",
      "40        SOUTH CAROLINA   57444   SC             96     5084127\n",
      "41          SOUTH DAKOTA   59463   SD             37      882235\n",
      "42             TENNESSEE   56060   TN            122     6770010\n",
      "43                 TEXAS   59785   TX            417    28701845\n",
      "44                  UTAH   77067   UT             49     3161105\n",
      "45               VERMONT   70066   VT             78      626299\n",
      "46              VIRGINIA   77151   VA            309     8517685\n",
      "47            WASHINGTON   79726   WA            445     7535591\n",
      "48         WEST VIRGINIA   50573   WV             30     1805832\n",
      "49             WISCONSIN   62629   WI            232     5813568\n",
      "50               WYOMING   62539   WY             42      577737\n",
      "             state  income abbr  brewery_count  population  wineries\n",
      "0          ALABAMA   49936   AL             53     4887871         9\n",
      "1           ALASKA   68734   AK             49      737438         8\n",
      "2          ARIZONA   62283   AZ            129     7171646        26\n",
      "3         ARKANSAS   49781   AR             45     3013825        10\n",
      "4       CALIFORNIA   70489   CA           1019    39557045      2025\n",
      "5         COLORADO   73034   CO            467     5695564        72\n",
      "6      CONNECTICUT   72812   CT            114     3572665        28\n",
      "7         DELAWARE   65012   DE             30      967171         2\n",
      "8          FLORIDA   54644   FL            377    21299325        46\n",
      "9          GEORGIA   55821   GA            141    10519475        20\n",
      "10          HAWAII   80108   HI             29     1420491         4\n",
      "11           IDAHO   58728   ID             74     1754208        32\n",
      "12        ILLINOIS   70145   IL            325    12741080        83\n",
      "13         INDIANA   59892   IN            192     6691878        40\n",
      "14            IOWA   68718   IA            101     3156145        62\n",
      "15          KANSAS   63938   KS             64     2911505        16\n",
      "16        KENTUCKY   54555   KY             74     4468402        44\n",
      "17       LOUISIANA   49973   LA             51     4659978         7\n",
      "18           MAINE   58663   ME            134     1338404        14\n",
      "19        MARYLAND   86223   MD            134     6042718        31\n",
      "20   MASSACHUSETTS   86345   MA            198     6902149        31\n",
      "21        MICHIGAN   60449   MI            401     9995915       112\n",
      "22       MINNESOTA   71817   MN            214     5611179        26\n",
      "23     MISSISSIPPI   42781   MS             16     2986530         2\n",
      "24        MISSOURI   61726   MO            152     6126452        86\n",
      "25         MONTANA   57679   MT            103     1062305        10\n",
      "26        NEBRASKA   67575   NE             57     1929268        20\n",
      "27          NEVADA   61864   NV             58     3034392         5\n",
      "28   NEW HAMPSHIRE   81346   NH             93     1356458        10\n",
      "29      NEW JERSEY   74176   NJ            153     8908520        41\n",
      "30      NEW MEXICO   48283   NM             99     2095428        36\n",
      "31        NEW YORK   67274   NY            487    19542209       239\n",
      "32  NORTH CAROLINA   53369   NC            367    10383620        74\n",
      "33    NORTH DAKOTA   66505   ND             24      760077         8\n",
      "34            OHIO   61633   OH            334    11689442       108\n",
      "35        OKLAHOMA   54434   OK             63     3943079        46\n",
      "36          OREGON   69165   OR            321     4190713       295\n",
      "37    PENNSYLVANIA   64524   PA            434    12807060       115\n",
      "38    RHODE ISLAND   62266   RI             34     1057315         7\n",
      "39  SOUTH CAROLINA   57444   SC             96     5084127        11\n",
      "40    SOUTH DAKOTA   59463   SD             37      882235        14\n",
      "41       TENNESSEE   56060   TN            122     6770010        29\n",
      "42           TEXAS   59785   TX            417    28701845       136\n",
      "43            UTAH   77067   UT             49     3161105         7\n",
      "44         VERMONT   70066   VT             78      626299        14\n",
      "45        VIRGINIA   77151   VA            309     8517685       140\n",
      "46      WASHINGTON   79726   WA            445     7535591       451\n",
      "47   WEST VIRGINIA   50573   WV             30     1805832        16\n",
      "48       WISCONSIN   62629   WI            232     5813568        41\n",
      "49         WYOMING   62539   WY             42      577737         3\n"
     ]
    }
   ],
   "source": [
    "merged_pd = pd.merge(state_income_pd, brewery_pd, on='state', how='inner')\n",
    "print(merged_pd)\n",
    "merged1_pd = pd.merge(merged_pd, population_pd, on='state', how='inner')\n",
    "print(merged1_pd)\n",
    "merged2_pd = pd.merge(merged1_pd, winery_pd, on='state', how='inner')\n",
    "print(merged2_pd)"
   ]
  },
  {
   "cell_type": "code",
   "execution_count": 5,
   "metadata": {},
   "outputs": [
    {
     "name": "stdout",
     "output_type": "stream",
     "text": [
      "9067\n",
      "4712\n"
     ]
    }
   ],
   "source": [
    "total = merged2_pd['brewery_count'].sum()\n",
    "total2 = merged2_pd['wineries'].sum()\n",
    "print (total)\n",
    "print (total2)"
   ]
  },
  {
   "cell_type": "code",
   "execution_count": 6,
   "metadata": {},
   "outputs": [
    {
     "data": {
      "text/html": [
       "<div>\n",
       "<style scoped>\n",
       "    .dataframe tbody tr th:only-of-type {\n",
       "        vertical-align: middle;\n",
       "    }\n",
       "\n",
       "    .dataframe tbody tr th {\n",
       "        vertical-align: top;\n",
       "    }\n",
       "\n",
       "    .dataframe thead th {\n",
       "        text-align: right;\n",
       "    }\n",
       "</style>\n",
       "<table border=\"1\" class=\"dataframe\">\n",
       "  <thead>\n",
       "    <tr style=\"text-align: right;\">\n",
       "      <th></th>\n",
       "      <th>state</th>\n",
       "      <th>income</th>\n",
       "      <th>abbr</th>\n",
       "      <th>brewery_count</th>\n",
       "      <th>population</th>\n",
       "      <th>wineries</th>\n",
       "      <th>pct_winery</th>\n",
       "    </tr>\n",
       "  </thead>\n",
       "  <tbody>\n",
       "    <tr>\n",
       "      <th>0</th>\n",
       "      <td>ALABAMA</td>\n",
       "      <td>49936</td>\n",
       "      <td>AL</td>\n",
       "      <td>53</td>\n",
       "      <td>4887871</td>\n",
       "      <td>9</td>\n",
       "      <td>0.191002</td>\n",
       "    </tr>\n",
       "    <tr>\n",
       "      <th>1</th>\n",
       "      <td>ALASKA</td>\n",
       "      <td>68734</td>\n",
       "      <td>AK</td>\n",
       "      <td>49</td>\n",
       "      <td>737438</td>\n",
       "      <td>8</td>\n",
       "      <td>0.169779</td>\n",
       "    </tr>\n",
       "    <tr>\n",
       "      <th>2</th>\n",
       "      <td>ARIZONA</td>\n",
       "      <td>62283</td>\n",
       "      <td>AZ</td>\n",
       "      <td>129</td>\n",
       "      <td>7171646</td>\n",
       "      <td>26</td>\n",
       "      <td>0.551783</td>\n",
       "    </tr>\n",
       "    <tr>\n",
       "      <th>3</th>\n",
       "      <td>ARKANSAS</td>\n",
       "      <td>49781</td>\n",
       "      <td>AR</td>\n",
       "      <td>45</td>\n",
       "      <td>3013825</td>\n",
       "      <td>10</td>\n",
       "      <td>0.212224</td>\n",
       "    </tr>\n",
       "    <tr>\n",
       "      <th>4</th>\n",
       "      <td>CALIFORNIA</td>\n",
       "      <td>70489</td>\n",
       "      <td>CA</td>\n",
       "      <td>1019</td>\n",
       "      <td>39557045</td>\n",
       "      <td>2025</td>\n",
       "      <td>42.975382</td>\n",
       "    </tr>\n",
       "  </tbody>\n",
       "</table>\n",
       "</div>"
      ],
      "text/plain": [
       "        state  income abbr  brewery_count  population  wineries  pct_winery\n",
       "0     ALABAMA   49936   AL             53     4887871         9    0.191002\n",
       "1      ALASKA   68734   AK             49      737438         8    0.169779\n",
       "2     ARIZONA   62283   AZ            129     7171646        26    0.551783\n",
       "3    ARKANSAS   49781   AR             45     3013825        10    0.212224\n",
       "4  CALIFORNIA   70489   CA           1019    39557045      2025   42.975382"
      ]
     },
     "execution_count": 6,
     "metadata": {},
     "output_type": "execute_result"
    }
   ],
   "source": [
    "# merged2_pd['pct_brewery'] = (merged2_pd.brewery_count / total) *100\n",
    "merged2_pd['pct_winery'] = (merged2_pd.wineries / total2) *100\n",
    "merged2_pd.head()"
   ]
  },
  {
   "cell_type": "code",
   "execution_count": 7,
   "metadata": {},
   "outputs": [
    {
     "data": {
      "text/html": [
       "<div>\n",
       "<style scoped>\n",
       "    .dataframe tbody tr th:only-of-type {\n",
       "        vertical-align: middle;\n",
       "    }\n",
       "\n",
       "    .dataframe tbody tr th {\n",
       "        vertical-align: top;\n",
       "    }\n",
       "\n",
       "    .dataframe thead th {\n",
       "        text-align: right;\n",
       "    }\n",
       "</style>\n",
       "<table border=\"1\" class=\"dataframe\">\n",
       "  <thead>\n",
       "    <tr style=\"text-align: right;\">\n",
       "      <th></th>\n",
       "      <th>state</th>\n",
       "      <th>income</th>\n",
       "      <th>abbr</th>\n",
       "      <th>brewery_count</th>\n",
       "      <th>population</th>\n",
       "      <th>wineries</th>\n",
       "      <th>pct_winery</th>\n",
       "      <th>total_wineries</th>\n",
       "    </tr>\n",
       "  </thead>\n",
       "  <tbody>\n",
       "    <tr>\n",
       "      <th>0</th>\n",
       "      <td>ALABAMA</td>\n",
       "      <td>49936</td>\n",
       "      <td>AL</td>\n",
       "      <td>53</td>\n",
       "      <td>4887871</td>\n",
       "      <td>9</td>\n",
       "      <td>0.191002</td>\n",
       "      <td>4712</td>\n",
       "    </tr>\n",
       "    <tr>\n",
       "      <th>1</th>\n",
       "      <td>ALASKA</td>\n",
       "      <td>68734</td>\n",
       "      <td>AK</td>\n",
       "      <td>49</td>\n",
       "      <td>737438</td>\n",
       "      <td>8</td>\n",
       "      <td>0.169779</td>\n",
       "      <td>4712</td>\n",
       "    </tr>\n",
       "    <tr>\n",
       "      <th>2</th>\n",
       "      <td>ARIZONA</td>\n",
       "      <td>62283</td>\n",
       "      <td>AZ</td>\n",
       "      <td>129</td>\n",
       "      <td>7171646</td>\n",
       "      <td>26</td>\n",
       "      <td>0.551783</td>\n",
       "      <td>4712</td>\n",
       "    </tr>\n",
       "    <tr>\n",
       "      <th>3</th>\n",
       "      <td>ARKANSAS</td>\n",
       "      <td>49781</td>\n",
       "      <td>AR</td>\n",
       "      <td>45</td>\n",
       "      <td>3013825</td>\n",
       "      <td>10</td>\n",
       "      <td>0.212224</td>\n",
       "      <td>4712</td>\n",
       "    </tr>\n",
       "    <tr>\n",
       "      <th>4</th>\n",
       "      <td>CALIFORNIA</td>\n",
       "      <td>70489</td>\n",
       "      <td>CA</td>\n",
       "      <td>1019</td>\n",
       "      <td>39557045</td>\n",
       "      <td>2025</td>\n",
       "      <td>42.975382</td>\n",
       "      <td>4712</td>\n",
       "    </tr>\n",
       "  </tbody>\n",
       "</table>\n",
       "</div>"
      ],
      "text/plain": [
       "        state  income abbr  brewery_count  population  wineries  pct_winery  \\\n",
       "0     ALABAMA   49936   AL             53     4887871         9    0.191002   \n",
       "1      ALASKA   68734   AK             49      737438         8    0.169779   \n",
       "2     ARIZONA   62283   AZ            129     7171646        26    0.551783   \n",
       "3    ARKANSAS   49781   AR             45     3013825        10    0.212224   \n",
       "4  CALIFORNIA   70489   CA           1019    39557045      2025   42.975382   \n",
       "\n",
       "   total_wineries  \n",
       "0            4712  \n",
       "1            4712  \n",
       "2            4712  \n",
       "3            4712  \n",
       "4            4712  "
      ]
     },
     "execution_count": 7,
     "metadata": {},
     "output_type": "execute_result"
    }
   ],
   "source": [
    "# merged2_pd['per_capita_beer'] = round(merged2_pd.population/merged2_pd.brewery_count)\n",
    "# merged2_pd['per_capita_wine'] = round(merged2_pd.population/merged2_pd.wineries)\n",
    "# merged2_pd['total_breweries'] = total\n",
    "merged2_pd['total_wineries'] = total2\n",
    "merged2_pd.head()"
   ]
  },
  {
   "cell_type": "code",
   "execution_count": 10,
   "metadata": {},
   "outputs": [],
   "source": [
    "\n",
    "import sqlite3\n",
    "cnx = sqlite3.connect('db.sqlite')\n",
    "sqlite3.connect('db.sqlite')\n",
    "\n",
    "merged2_pd.to_sql('beer', cnx)"
   ]
  },
  {
   "cell_type": "code",
   "execution_count": 20,
   "metadata": {
    "scrolled": true
   },
   "outputs": [],
   "source": [
    "merged2_pd.to_csv('data/combined_data.csv')"
   ]
  },
  {
   "cell_type": "code",
   "execution_count": 21,
   "metadata": {},
   "outputs": [],
   "source": [
    "jsonfile = open('data/combined_data.json', 'w')"
   ]
  },
  {
   "cell_type": "code",
   "execution_count": 8,
   "metadata": {},
   "outputs": [
    {
     "data": {
      "text/plain": [
       "2574"
      ]
     },
     "execution_count": 8,
     "metadata": {},
     "output_type": "execute_result"
    }
   ],
   "source": []
  },
  {
   "cell_type": "code",
   "execution_count": 22,
   "metadata": {},
   "outputs": [
    {
     "name": "stdout",
     "output_type": "stream",
     "text": [
      "[{\"state\":\"ALABAMA\",\"income\":49936,\"abbr\":\"AL\",\"brewery_count\":53,\"population\":4887871,\"wineries\":9,\"pct_brewery\":0.5845373332,\"per_capita_beer\":92224.0,\"per_capita_wine\":543097.0,\"total_breweries\":9067,\"pct_winery\":0.1910016978,\"total_wineries\":4712},{\"state\":\"ALASKA\",\"income\":68734,\"abbr\":\"AK\",\"brewery_count\":49,\"population\":737438,\"wineries\":8,\"pct_brewery\":0.540421308,\"per_capita_beer\":15050.0,\"per_capita_wine\":92180.0,\"total_breweries\":9067,\"pct_winery\":0.1697792869,\"total_wineries\":4712},{\"state\":\"ARIZONA\",\"income\":62283,\"abbr\":\"AZ\",\"brewery_count\":129,\"population\":7171646,\"wineries\":26,\"pct_brewery\":1.422741811,\"per_capita_beer\":55594.0,\"per_capita_wine\":275833.0,\"total_breweries\":9067,\"pct_winery\":0.5517826825,\"total_wineries\":4712},{\"state\":\"ARKANSAS\",\"income\":49781,\"abbr\":\"AR\",\"brewery_count\":45,\"population\":3013825,\"wineries\":10,\"pct_brewery\":0.4963052829,\"per_capita_beer\":66974.0,\"per_capita_wine\":301382.0,\"total_breweries\":9067,\"pct_winery\":0.2122241087,\"total_wineries\":4712},{\"state\":\"CALIFORNIA\",\"income\":70489,\"abbr\":\"CA\",\"brewery_count\":1019,\"population\":39557045,\"wineries\":2025,\"pct_brewery\":11.238557406,\"per_capita_beer\":38819.0,\"per_capita_wine\":19534.0,\"total_breweries\":9067,\"pct_winery\":42.9753820034,\"total_wineries\":4712},{\"state\":\"COLORADO\",\"income\":73034,\"abbr\":\"CO\",\"brewery_count\":467,\"population\":5695564,\"wineries\":72,\"pct_brewery\":5.1505459358,\"per_capita_beer\":12196.0,\"per_capita_wine\":79105.0,\"total_breweries\":9067,\"pct_winery\":1.5280135823,\"total_wineries\":4712},{\"state\":\"CONNECTICUT\",\"income\":72812,\"abbr\":\"CT\",\"brewery_count\":114,\"population\":3572665,\"wineries\":28,\"pct_brewery\":1.2573067167,\"per_capita_beer\":31339.0,\"per_capita_wine\":127595.0,\"total_breweries\":9067,\"pct_winery\":0.5942275042,\"total_wineries\":4712},{\"state\":\"DELAWARE\",\"income\":65012,\"abbr\":\"DE\",\"brewery_count\":30,\"population\":967171,\"wineries\":2,\"pct_brewery\":0.3308701886,\"per_capita_beer\":32239.0,\"per_capita_wine\":483586.0,\"total_breweries\":9067,\"pct_winery\":0.0424448217,\"total_wineries\":4712},{\"state\":\"FLORIDA\",\"income\":54644,\"abbr\":\"FL\",\"brewery_count\":377,\"population\":21299325,\"wineries\":46,\"pct_brewery\":4.15793537,\"per_capita_beer\":56497.0,\"per_capita_wine\":463029.0,\"total_breweries\":9067,\"pct_winery\":0.9762308998,\"total_wineries\":4712},{\"state\":\"GEORGIA\",\"income\":55821,\"abbr\":\"GA\",\"brewery_count\":141,\"population\":10519475,\"wineries\":20,\"pct_brewery\":1.5550898864,\"per_capita_beer\":74606.0,\"per_capita_wine\":525974.0,\"total_breweries\":9067,\"pct_winery\":0.4244482173,\"total_wineries\":4712},{\"state\":\"HAWAII\",\"income\":80108,\"abbr\":\"HI\",\"brewery_count\":29,\"population\":1420491,\"wineries\":4,\"pct_brewery\":0.3198411823,\"per_capita_beer\":48982.0,\"per_capita_wine\":355123.0,\"total_breweries\":9067,\"pct_winery\":0.0848896435,\"total_wineries\":4712},{\"state\":\"IDAHO\",\"income\":58728,\"abbr\":\"ID\",\"brewery_count\":74,\"population\":1754208,\"wineries\":32,\"pct_brewery\":0.8161464652,\"per_capita_beer\":23706.0,\"per_capita_wine\":54819.0,\"total_breweries\":9067,\"pct_winery\":0.6791171477,\"total_wineries\":4712},{\"state\":\"ILLINOIS\",\"income\":70145,\"abbr\":\"IL\",\"brewery_count\":325,\"population\":12741080,\"wineries\":83,\"pct_brewery\":3.5844270431,\"per_capita_beer\":39203.0,\"per_capita_wine\":153507.0,\"total_breweries\":9067,\"pct_winery\":1.7614601019,\"total_wineries\":4712},{\"state\":\"INDIANA\",\"income\":59892,\"abbr\":\"IN\",\"brewery_count\":192,\"population\":6691878,\"wineries\":40,\"pct_brewery\":2.117569207,\"per_capita_beer\":34854.0,\"per_capita_wine\":167297.0,\"total_breweries\":9067,\"pct_winery\":0.8488964346,\"total_wineries\":4712},{\"state\":\"IOWA\",\"income\":68718,\"abbr\":\"IA\",\"brewery_count\":101,\"population\":3156145,\"wineries\":62,\"pct_brewery\":1.1139296349,\"per_capita_beer\":31249.0,\"per_capita_wine\":50906.0,\"total_breweries\":9067,\"pct_winery\":1.3157894737,\"total_wineries\":4712},{\"state\":\"KANSAS\",\"income\":63938,\"abbr\":\"KS\",\"brewery_count\":64,\"population\":2911505,\"wineries\":16,\"pct_brewery\":0.7058564023,\"per_capita_beer\":45492.0,\"per_capita_wine\":181969.0,\"total_breweries\":9067,\"pct_winery\":0.3395585739,\"total_wineries\":4712},{\"state\":\"KENTUCKY\",\"income\":54555,\"abbr\":\"KY\",\"brewery_count\":74,\"population\":4468402,\"wineries\":44,\"pct_brewery\":0.8161464652,\"per_capita_beer\":60384.0,\"per_capita_wine\":101555.0,\"total_breweries\":9067,\"pct_winery\":0.9337860781,\"total_wineries\":4712},{\"state\":\"LOUISIANA\",\"income\":49973,\"abbr\":\"LA\",\"brewery_count\":51,\"population\":4659978,\"wineries\":7,\"pct_brewery\":0.5624793206,\"per_capita_beer\":91372.0,\"per_capita_wine\":665711.0,\"total_breweries\":9067,\"pct_winery\":0.1485568761,\"total_wineries\":4712},{\"state\":\"MAINE\",\"income\":58663,\"abbr\":\"ME\",\"brewery_count\":134,\"population\":1338404,\"wineries\":14,\"pct_brewery\":1.4778868424,\"per_capita_beer\":9988.0,\"per_capita_wine\":95600.0,\"total_breweries\":9067,\"pct_winery\":0.2971137521,\"total_wineries\":4712},{\"state\":\"MARYLAND\",\"income\":86223,\"abbr\":\"MD\",\"brewery_count\":134,\"population\":6042718,\"wineries\":31,\"pct_brewery\":1.4778868424,\"per_capita_beer\":45095.0,\"per_capita_wine\":194926.0,\"total_breweries\":9067,\"pct_winery\":0.6578947368,\"total_wineries\":4712},{\"state\":\"MASSACHUSETTS\",\"income\":86345,\"abbr\":\"MA\",\"brewery_count\":198,\"population\":6902149,\"wineries\":31,\"pct_brewery\":2.1837432447,\"per_capita_beer\":34859.0,\"per_capita_wine\":222650.0,\"total_breweries\":9067,\"pct_winery\":0.6578947368,\"total_wineries\":4712},{\"state\":\"MICHIGAN\",\"income\":60449,\"abbr\":\"MI\",\"brewery_count\":401,\"population\":9995915,\"wineries\":112,\"pct_brewery\":4.4226315209,\"per_capita_beer\":24927.0,\"per_capita_wine\":89249.0,\"total_breweries\":9067,\"pct_winery\":2.376910017,\"total_wineries\":4712},{\"state\":\"MINNESOTA\",\"income\":71817,\"abbr\":\"MN\",\"brewery_count\":214,\"population\":5611179,\"wineries\":26,\"pct_brewery\":2.3602073453,\"per_capita_beer\":26220.0,\"per_capita_wine\":215815.0,\"total_breweries\":9067,\"pct_winery\":0.5517826825,\"total_wineries\":4712},{\"state\":\"MISSISSIPPI\",\"income\":42781,\"abbr\":\"MS\",\"brewery_count\":16,\"population\":2986530,\"wineries\":2,\"pct_brewery\":0.1764641006,\"per_capita_beer\":186658.0,\"per_capita_wine\":1493265.0,\"total_breweries\":9067,\"pct_winery\":0.0424448217,\"total_wineries\":4712},{\"state\":\"MISSOURI\",\"income\":61726,\"abbr\":\"MO\",\"brewery_count\":152,\"population\":6126452,\"wineries\":86,\"pct_brewery\":1.6764089556,\"per_capita_beer\":40306.0,\"per_capita_wine\":71238.0,\"total_breweries\":9067,\"pct_winery\":1.8251273345,\"total_wineries\":4712},{\"state\":\"MONTANA\",\"income\":57679,\"abbr\":\"MT\",\"brewery_count\":103,\"population\":1062305,\"wineries\":10,\"pct_brewery\":1.1359876475,\"per_capita_beer\":10314.0,\"per_capita_wine\":106230.0,\"total_breweries\":9067,\"pct_winery\":0.2122241087,\"total_wineries\":4712},{\"state\":\"NEBRASKA\",\"income\":67575,\"abbr\":\"NE\",\"brewery_count\":57,\"population\":1929268,\"wineries\":20,\"pct_brewery\":0.6286533583,\"per_capita_beer\":33847.0,\"per_capita_wine\":96463.0,\"total_breweries\":9067,\"pct_winery\":0.4244482173,\"total_wineries\":4712},{\"state\":\"NEVADA\",\"income\":61864,\"abbr\":\"NV\",\"brewery_count\":58,\"population\":3034392,\"wineries\":5,\"pct_brewery\":0.6396823646,\"per_capita_beer\":52317.0,\"per_capita_wine\":606878.0,\"total_breweries\":9067,\"pct_winery\":0.1061120543,\"total_wineries\":4712},{\"state\":\"NEW HAMPSHIRE\",\"income\":81346,\"abbr\":\"NH\",\"brewery_count\":93,\"population\":1356458,\"wineries\":10,\"pct_brewery\":1.0256975846,\"per_capita_beer\":14586.0,\"per_capita_wine\":135646.0,\"total_breweries\":9067,\"pct_winery\":0.2122241087,\"total_wineries\":4712},{\"state\":\"NEW JERSEY\",\"income\":74176,\"abbr\":\"NJ\",\"brewery_count\":153,\"population\":8908520,\"wineries\":41,\"pct_brewery\":1.6874379618,\"per_capita_beer\":58226.0,\"per_capita_wine\":217281.0,\"total_breweries\":9067,\"pct_winery\":0.8701188455,\"total_wineries\":4712},{\"state\":\"NEW MEXICO\",\"income\":48283,\"abbr\":\"NM\",\"brewery_count\":99,\"population\":2095428,\"wineries\":36,\"pct_brewery\":1.0918716224,\"per_capita_beer\":21166.0,\"per_capita_wine\":58206.0,\"total_breweries\":9067,\"pct_winery\":0.7640067912,\"total_wineries\":4712},{\"state\":\"NEW YORK\",\"income\":67274,\"abbr\":\"NY\",\"brewery_count\":487,\"population\":19542209,\"wineries\":239,\"pct_brewery\":5.3711260615,\"per_capita_beer\":40128.0,\"per_capita_wine\":81767.0,\"total_breweries\":9067,\"pct_winery\":5.0721561969,\"total_wineries\":4712},{\"state\":\"NORTH CAROLINA\",\"income\":53369,\"abbr\":\"NC\",\"brewery_count\":367,\"population\":10383620,\"wineries\":74,\"pct_brewery\":4.0476453072,\"per_capita_beer\":28293.0,\"per_capita_wine\":140319.0,\"total_breweries\":9067,\"pct_winery\":1.5704584041,\"total_wineries\":4712},{\"state\":\"NORTH DAKOTA\",\"income\":66505,\"abbr\":\"ND\",\"brewery_count\":24,\"population\":760077,\"wineries\":8,\"pct_brewery\":0.2646961509,\"per_capita_beer\":31670.0,\"per_capita_wine\":95010.0,\"total_breweries\":9067,\"pct_winery\":0.1697792869,\"total_wineries\":4712},{\"state\":\"OHIO\",\"income\":61633,\"abbr\":\"OH\",\"brewery_count\":334,\"population\":11689442,\"wineries\":108,\"pct_brewery\":3.6836880997,\"per_capita_beer\":34998.0,\"per_capita_wine\":108236.0,\"total_breweries\":9067,\"pct_winery\":2.2920203735,\"total_wineries\":4712},{\"state\":\"OKLAHOMA\",\"income\":54434,\"abbr\":\"OK\",\"brewery_count\":63,\"population\":3943079,\"wineries\":46,\"pct_brewery\":0.6948273961,\"per_capita_beer\":62589.0,\"per_capita_wine\":85719.0,\"total_breweries\":9067,\"pct_winery\":0.9762308998,\"total_wineries\":4712},{\"state\":\"OREGON\",\"income\":69165,\"abbr\":\"OR\",\"brewery_count\":321,\"population\":4190713,\"wineries\":295,\"pct_brewery\":3.540311018,\"per_capita_beer\":13055.0,\"per_capita_wine\":14206.0,\"total_breweries\":9067,\"pct_winery\":6.2606112054,\"total_wineries\":4712},{\"state\":\"PENNSYLVANIA\",\"income\":64524,\"abbr\":\"PA\",\"brewery_count\":434,\"population\":12807060,\"wineries\":115,\"pct_brewery\":4.7865887284,\"per_capita_beer\":29509.0,\"per_capita_wine\":111366.0,\"total_breweries\":9067,\"pct_winery\":2.4405772496,\"total_wineries\":4712},{\"state\":\"RHODE ISLAND\",\"income\":62266,\"abbr\":\"RI\",\"brewery_count\":34,\"population\":1057315,\"wineries\":7,\"pct_brewery\":0.3749862137,\"per_capita_beer\":31098.0,\"per_capita_wine\":151045.0,\"total_breweries\":9067,\"pct_winery\":0.1485568761,\"total_wineries\":4712},{\"state\":\"SOUTH CAROLINA\",\"income\":57444,\"abbr\":\"SC\",\"brewery_count\":96,\"population\":5084127,\"wineries\":11,\"pct_brewery\":1.0587846035,\"per_capita_beer\":52960.0,\"per_capita_wine\":462193.0,\"total_breweries\":9067,\"pct_winery\":0.2334465195,\"total_wineries\":4712},{\"state\":\"SOUTH DAKOTA\",\"income\":59463,\"abbr\":\"SD\",\"brewery_count\":37,\"population\":882235,\"wineries\":14,\"pct_brewery\":0.4080732326,\"per_capita_beer\":23844.0,\"per_capita_wine\":63017.0,\"total_breweries\":9067,\"pct_winery\":0.2971137521,\"total_wineries\":4712},{\"state\":\"TENNESSEE\",\"income\":56060,\"abbr\":\"TN\",\"brewery_count\":122,\"population\":6770010,\"wineries\":29,\"pct_brewery\":1.345538767,\"per_capita_beer\":55492.0,\"per_capita_wine\":233449.0,\"total_breweries\":9067,\"pct_winery\":0.6154499151,\"total_wineries\":4712},{\"state\":\"TEXAS\",\"income\":59785,\"abbr\":\"TX\",\"brewery_count\":417,\"population\":28701845,\"wineries\":136,\"pct_brewery\":4.5990956215,\"per_capita_beer\":68829.0,\"per_capita_wine\":211043.0,\"total_breweries\":9067,\"pct_winery\":2.8862478778,\"total_wineries\":4712},{\"state\":\"UTAH\",\"income\":77067,\"abbr\":\"UT\",\"brewery_count\":49,\"population\":3161105,\"wineries\":7,\"pct_brewery\":0.540421308,\"per_capita_beer\":64512.0,\"per_capita_wine\":451586.0,\"total_breweries\":9067,\"pct_winery\":0.1485568761,\"total_wineries\":4712},{\"state\":\"VERMONT\",\"income\":70066,\"abbr\":\"VT\",\"brewery_count\":78,\"population\":626299,\"wineries\":14,\"pct_brewery\":0.8602624903,\"per_capita_beer\":8029.0,\"per_capita_wine\":44736.0,\"total_breweries\":9067,\"pct_winery\":0.2971137521,\"total_wineries\":4712},{\"state\":\"VIRGINIA\",\"income\":77151,\"abbr\":\"VA\",\"brewery_count\":309,\"population\":8517685,\"wineries\":140,\"pct_brewery\":3.4079629425,\"per_capita_beer\":27565.0,\"per_capita_wine\":60841.0,\"total_breweries\":9067,\"pct_winery\":2.9711375212,\"total_wineries\":4712},{\"state\":\"WASHINGTON\",\"income\":79726,\"abbr\":\"WA\",\"brewery_count\":445,\"population\":7535591,\"wineries\":451,\"pct_brewery\":4.9079077975,\"per_capita_beer\":16934.0,\"per_capita_wine\":16709.0,\"total_breweries\":9067,\"pct_winery\":9.5713073005,\"total_wineries\":4712},{\"state\":\"WEST VIRGINIA\",\"income\":50573,\"abbr\":\"WV\",\"brewery_count\":30,\"population\":1805832,\"wineries\":16,\"pct_brewery\":0.3308701886,\"per_capita_beer\":60194.0,\"per_capita_wine\":112864.0,\"total_breweries\":9067,\"pct_winery\":0.3395585739,\"total_wineries\":4712},{\"state\":\"WISCONSIN\",\"income\":62629,\"abbr\":\"WI\",\"brewery_count\":232,\"population\":5813568,\"wineries\":41,\"pct_brewery\":2.5587294585,\"per_capita_beer\":25058.0,\"per_capita_wine\":141794.0,\"total_breweries\":9067,\"pct_winery\":0.8701188455,\"total_wineries\":4712},{\"state\":\"WYOMING\",\"income\":62539,\"abbr\":\"WY\",\"brewery_count\":42,\"population\":577737,\"wineries\":3,\"pct_brewery\":0.463218264,\"per_capita_beer\":13756.0,\"per_capita_wine\":192579.0,\"total_breweries\":9067,\"pct_winery\":0.0636672326,\"total_wineries\":4712}]\n"
     ]
    }
   ],
   "source": [
    "\n",
    "\n",
    "json_file = merged2_pd.to_json(orient ='records')\n",
    "print(json_file)\n",
    "\n"
   ]
  },
  {
   "cell_type": "code",
   "execution_count": 23,
   "metadata": {
    "scrolled": true
   },
   "outputs": [],
   "source": [
    "# Open a file\n",
    "fo = open(\"data/combined.json\", \"w\") # Creates a file object 'fo'\n",
    "fo.write(json_file)\n",
    "\n",
    "# Close opened file (good practice)\n",
    "fo.close()"
   ]
  },
  {
   "cell_type": "code",
   "execution_count": null,
   "metadata": {},
   "outputs": [],
   "source": []
  },
  {
   "cell_type": "code",
   "execution_count": null,
   "metadata": {},
   "outputs": [],
   "source": []
  },
  {
   "cell_type": "code",
   "execution_count": null,
   "metadata": {},
   "outputs": [],
   "source": []
  },
  {
   "cell_type": "code",
   "execution_count": null,
   "metadata": {},
   "outputs": [],
   "source": []
  },
  {
   "cell_type": "code",
   "execution_count": null,
   "metadata": {},
   "outputs": [],
   "source": []
  },
  {
   "cell_type": "code",
   "execution_count": null,
   "metadata": {},
   "outputs": [],
   "source": [
    "winery_pd.to_csv('winery_cleaned.csv')"
   ]
  },
  {
   "cell_type": "code",
   "execution_count": null,
   "metadata": {},
   "outputs": [],
   "source": [
    "\n"
   ]
  },
  {
   "cell_type": "code",
   "execution_count": null,
   "metadata": {},
   "outputs": [],
   "source": []
  },
  {
   "cell_type": "code",
   "execution_count": null,
   "metadata": {},
   "outputs": [],
   "source": []
  },
  {
   "cell_type": "code",
   "execution_count": null,
   "metadata": {},
   "outputs": [],
   "source": []
  },
  {
   "cell_type": "code",
   "execution_count": null,
   "metadata": {},
   "outputs": [],
   "source": []
  },
  {
   "cell_type": "code",
   "execution_count": null,
   "metadata": {},
   "outputs": [],
   "source": []
  },
  {
   "cell_type": "code",
   "execution_count": null,
   "metadata": {},
   "outputs": [],
   "source": []
  }
 ],
 "metadata": {
  "kernelspec": {
   "display_name": "Python 3",
   "language": "python",
   "name": "python3"
  },
  "language_info": {
   "codemirror_mode": {
    "name": "ipython",
    "version": 3
   },
   "file_extension": ".py",
   "mimetype": "text/x-python",
   "name": "python",
   "nbconvert_exporter": "python",
   "pygments_lexer": "ipython3",
   "version": "3.7.5"
  }
 },
 "nbformat": 4,
 "nbformat_minor": 2
}
